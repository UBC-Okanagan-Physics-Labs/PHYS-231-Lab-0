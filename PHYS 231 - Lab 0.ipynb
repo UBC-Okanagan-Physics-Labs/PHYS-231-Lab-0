{
 "cells": [
  {
   "cell_type": "markdown",
   "id": "ac7c66da",
   "metadata": {
    "deletable": false,
    "editable": false,
    "tags": []
   },
   "source": [
    "# <div style=\"background-color:rgba(204, 229, 255, 0.5); text-align:center; vertical-align: middle; padding:40px 0; margin-top:30px\"><span style=\"color:rgba(0, 76, 153, 1);\">PHYS 231 Lab #0<span style=\"color:red\"> $\\to$ (10 possible marks)</span> </span></div> \n",
    "\n",
    "<p>\n",
    "<center>\n",
    "<img src=\"https://raw.githubusercontent.com/UBC-Okanagan-Physics-Labs/PHYS-231-images/main/Lab-0/images/PHYS231.png\" alt=\"image info\" style=\"width: 85%; height: auto;\" />\n",
    "</center>\n",
    "</p>\n",
    "\n",
    "<font size =\"4\"><span style=\"color:purple\">We recommend that you complete this notebook using either the [Google Chrome](https://www.google.com/intl/en_ca/chrome/) or [Mozilla Firefox](https://www.mozilla.org/en-CA/firefox/new/) browser.  Chrome and Firefox are both available for Windows, Mac, and Linux operating systems.  The PHYS 121 Jupyter notebooks should work in other browsers, but we have specifically verified that they work well in both Chrome and Firefox.</span></font>"
   ]
  },
  {
   "cell_type": "markdown",
   "id": "df6f1098",
   "metadata": {
    "deletable": false,
    "editable": false,
    "tags": []
   },
   "source": [
    "***\n",
    "## Lab Learning Outcomes:\n",
    "By the end of the PHYS 231 lab, the successful student will be able to:\n",
    "* <b><span style=\"color:rgba(0, 153, 76, 1);\">Design, build, and test practical analog circuits using passive components such as resistors, capacitors, inductors, and diodes.</span></b>\n",
    "* <b><span style=\"color:rgba(0, 153, 76, 1);\">Design, build, and test practical analog circuits using active components such as transistors and op amps.</span></b>\n",
    "* <b><span style=\"color:rgba(0, 153, 76, 1);\">Design, build, and test practical digital circuits using logic gates.</span></b>\n",
    "* <b><span style=\"color:rgba(0, 153, 76, 1);\">Set up an oscilloscope and use it to debug and analyze analog and digital circuits.</span></b>\n",
    "* <b><span style=\"color:rgba(0, 153, 76, 1);\">Use Python and Jupyter Notebooks to analyze data collected from the circuits that you design and build.</span></b>"
   ]
  },
  {
   "cell_type": "markdown",
   "id": "8d3518e7",
   "metadata": {
    "deletable": false,
    "editable": false,
    "tags": []
   },
   "source": [
    "***\n",
    "## Lab Logistics:\n",
    "\n",
    "The lab schedule and lab manuals are available on the course website: https://cmps-people.ok.ubc.ca/jbobowsk/phys231calendar.html\n",
    "\n",
    "You will need to purchase **two** bound notebooks for use in the PHYS 231 labs.  Suitable lab notebooks that are available from the UBC Okanagan bookstore, from cheapest to most expensive, are shown in Fig. 1. \n",
    "\n",
    "<p>\n",
    "<center>\n",
    "<img src=\"https://raw.githubusercontent.com/UBC-Okanagan-Physics-Labs/PHYS-231-images/main/Lab-0/images/yellow.jpg\" alt=\"image info\" style=\"width: 25%; height: auto;\" /> &nbsp;&nbsp;&nbsp;&nbsp;&nbsp;&nbsp; <img src=\"https://raw.githubusercontent.com/UBC-Okanagan-Physics-Labs/PHYS-231-images/main/Lab-0/images/blue.jpg\" alt=\"image info\" style=\"width: 25%; height: auto;\" /> &nbsp;&nbsp;&nbsp;&nbsp;&nbsp;&nbsp; <img src=\"https://raw.githubusercontent.com/UBC-Okanagan-Physics-Labs/PHYS-231-images/main/Lab-0/images/computation.jpg\" alt=\"image info\" style=\"width: 25.3%; height: auto;\" /><br>\n",
    "<b>Fig. 1: Suitable bound lab notebooks available in the UBC Okanagan bookstore.</b></center>\n",
    "</p>\n",
    "\n",
    "Please do not use coil bound notebooks, notepads, or the ubiquitous Hilroy exercise books as PHYS 231 lab notebooks (see Fig. 2).\n",
    "\n",
    "<p>\n",
    "<center>\n",
    "<img src=\"https://raw.githubusercontent.com/UBC-Okanagan-Physics-Labs/PHYS-231-images/main/Lab-0/images/coil.jpg\" alt=\"image info\" style=\"width: 25%; height: auto;\" /> &nbsp;&nbsp;&nbsp;&nbsp;&nbsp;&nbsp; <img src=\"https://raw.githubusercontent.com/UBC-Okanagan-Physics-Labs/PHYS-231-images/main/Lab-0/images/notepad.jpg\" alt=\"image info\" style=\"width: 22.7%; height: auto;\" />&nbsp;&nbsp;&nbsp;&nbsp;&nbsp;&nbsp; \n",
    "<img src=\"https://raw.githubusercontent.com/UBC-Okanagan-Physics-Labs/PHYS-231-images/main/Lab-0/images/hilroy.jpg\" alt=\"image info\" style=\"width: 24%; height: auto;\" /><br>\n",
    "<b>Fig. 2: Notebooks that are not suitable for use in the PHYS 231 lab.</b></center>\n",
    "</p>\n",
    "\n",
    "In the PHYS 231 lab, you will:\n",
    "- Submit the lab notebook (say, notebook No. 1) used to complete Lab $N-1$ at the *start* of Lab $N$.\n",
    "- Complete Lab $N$ using your other notebook (notebook No. 2).\n",
    "- Keep notebook No. 2 with you and complete your write up before the start of Lab $N+1$.\n",
    "- Submit notebook No. 2 at the *start* of Lab $N+1$.  The graded notebook No. 1 will be returned to you and you will use it to complete Lab $N+1$. "
   ]
  },
  {
   "cell_type": "markdown",
   "id": "ba80e167-dad5-4381-b0d3-3ccb73d4d946",
   "metadata": {
    "deletable": false,
    "editable": false,
    "tags": []
   },
   "source": [
    "***\n",
    "## Restart the Kernel:\n",
    "\n",
    "To avoid unnecessary errors, **please begin by restarting the \"kernel\"**.  Restart the kernal by selecting **Kernel** $\\to$ **Restart Kernel** from the menu options at to the top of the page.  Here is a <a href = \"https://raw.githubusercontent.com/UBC-Okanagan-Physics-Labs/PHYS-121-images/main/general/gifs/restart.gif\">GIF</a> showing how to complete these steps.  You don't need to execute any cells before the restart.  Simply go directly to the **Kernel** dropdown menu."
   ]
  },
  {
   "cell_type": "markdown",
   "id": "8e7f9de4-4299-4c39-a488-29a56cc01b73",
   "metadata": {
    "deletable": false,
    "editable": false,
    "tags": []
   },
   "source": [
    "***\n",
    "## Autograding:\n",
    "The PHYS 231 Jupyter Notebooks will make use of some autograding.  To make the autograding work, the two cells below need to be executed.  The first one installs any missing required packages and the second imports required packages/modules.  If 'PHYS231.Installer()' reports that some functions have been installed, the user should execute the PHYS231.Installer() cell a second time.  The second time the installer function is run, it should report that **\"All packages already installed. Please proceed\"**.\n",
    "\n",
    "The 'PHYS231.Installer()' command requires the file 'PHYS231.py', which you should see included in the list of files along the left-hand side of the screen."
   ]
  },
  {
   "cell_type": "code",
   "execution_count": null,
   "id": "51e6d321-f9dd-492a-8245-ecb2cb34e526",
   "metadata": {
    "deletable": false,
    "editable": false,
    "tags": []
   },
   "outputs": [],
   "source": [
    "# Hide unnecessary warnings.\n",
    "import warnings\n",
    "warnings.filterwarnings('ignore')\n",
    "\n",
    "# Import PHYS231.py and then run the installer function.\n",
    "import PHYS231\n",
    "PHYS231.Installer()"
   ]
  },
  {
   "cell_type": "code",
   "execution_count": null,
   "id": "dc37aa17-4642-4728-83cf-2e1346c1f482",
   "metadata": {
    "deletable": false,
    "editable": false,
    "tags": []
   },
   "outputs": [],
   "source": [
    "# Initialize Otter\n",
    "import otter\n",
    "grader = otter.Notebook(\"PHYS 231 - Lab 0.ipynb\")"
   ]
  },
  {
   "cell_type": "markdown",
   "id": "b24df486-f14e-40f1-97cd-e9df9e47fae9",
   "metadata": {
    "deletable": false,
    "editable": false,
    "tags": []
   },
   "source": [
    "***\n",
    "## Import Modules:\n",
    "Execute the cell below to import a number of useful pre-built Python modules that will be used in the PHYS 231 labs."
   ]
  },
  {
   "cell_type": "code",
   "execution_count": null,
   "id": "92d424ea-ae15-4b1f-82a5-3ec9c22355db",
   "metadata": {
    "deletable": false,
    "editable": false
   },
   "outputs": [],
   "source": [
    "import numpy as np\n",
    "import matplotlib.pyplot as plt\n",
    "import pandas as pd\n",
    "from matplotlib.pyplot import cm # used to generate a sequence of colours for plotting\n",
    "from scipy.optimize import curve_fit\n",
    "from IPython.display import HTML as html_print\n",
    "from IPython.display import display, Markdown, Latex\n",
    "from IPython.display import YouTubeVideo\n",
    "import math\n",
    "import sys"
   ]
  },
  {
   "cell_type": "code",
   "execution_count": null,
   "id": "403d51c7-317f-4517-bb4c-22420068e147",
   "metadata": {
    "deletable": false,
    "editable": false,
    "tags": []
   },
   "outputs": [],
   "source": [
    "PHYS231.graderCheck(['PHYS231' in sys.modules, 'PHYS231' in sys.modules, 'numpy' in sys.modules], ['PHYS231', 'otter', 'numpy'], grader.check('q0.1'))"
   ]
  },
  {
   "cell_type": "markdown",
   "id": "0855d885-202b-4efa-b194-6c3ed274b25f",
   "metadata": {
    "deletable": false,
    "editable": false,
    "tags": []
   },
   "source": [
    "# <div style=\"background-color:rgba(255, 204, 255, 0.5); text-align:center; vertical-align: middle; padding:40px 0; margin-top:30px\"><span style=\"color:rgba(102, 0, 204, 1);\">Name & Student Number</span></div>  \n",
    "\n",
    "So that we know who you were working with, both your name and student number and your partner's name and student number need to appear in the notebooks used during the labs.  In the cells below this text, enter your name and student number and your partner's name and student number as strings (i.e. place your names and student numbers between single or double quotes.\n",
    "\n",
    "Examples of valid entries are:\n",
    "```python\n",
    "last_name_1 = 'Doe'\n",
    "first_name_1 = 'Jane'\n",
    "student_number_1 = '12345678'\n",
    "```\n",
    "and\n",
    "```python\n",
    "last_name_1 = \"Doe\"\n",
    "first_name_1 = \"John\"\n",
    "student_number_1 = \"12345678\"\n",
    "```"
   ]
  },
  {
   "cell_type": "markdown",
   "id": "d5e6cc79-d5b8-44ca-9abd-bd2a1d61cc13",
   "metadata": {
    "deletable": false,
    "editable": false,
    "tags": []
   },
   "source": [
    "<!-- BEGIN QUESTION -->\n",
    "\n",
    "***\n",
    "### **<span style=\"color:blue\">Partner #1</span>** **<span style=\"color:red\">(0.5 marks)</span>** "
   ]
  },
  {
   "cell_type": "code",
   "execution_count": null,
   "id": "79d8c046-a12e-462c-add8-cf3cffd4f01e",
   "metadata": {
    "tags": []
   },
   "outputs": [],
   "source": [
    "# Enter LAST name of partner 1.  Delete the ... below and type your entry between the single quotes.\n",
    "# Once you've completed your entry, press SHIFT + ENTER to execute the cell.\n",
    "# *** Please do not change anything to the left of the equals sign. ***\n",
    "last_name_1 = ..."
   ]
  },
  {
   "cell_type": "code",
   "execution_count": null,
   "id": "3cd853be-1d84-4730-993a-9ec4c6c34f81",
   "metadata": {
    "tags": []
   },
   "outputs": [],
   "source": [
    "# Enter FIRST name of partner 1.  Delete the ... below and type your entry between the single quotes.\n",
    "# Once you've completed your entry, press SHIFT + ENTER to execute the cell.\n",
    "# *** Please do not change anything to the left of the equals sign. ***\n",
    "first_name_1 = ..."
   ]
  },
  {
   "cell_type": "code",
   "execution_count": null,
   "id": "3cc7a953-2e1a-4786-b315-bdfa984bf92a",
   "metadata": {
    "tags": []
   },
   "outputs": [],
   "source": [
    "# Enter STUDENT NUMBER of partner 1.  Delete the ... below and type your entry between the single quotes.\n",
    "# Once you've completed your entry, press SHIFT + ENTER to execute the cell.\n",
    "# *** Please do not change anything to the left of the equals sign. ***\n",
    "student_number_1 = ..."
   ]
  },
  {
   "cell_type": "markdown",
   "id": "9fba69f6-68a8-4504-b5b0-449f46fde353",
   "metadata": {
    "deletable": false,
    "editable": false,
    "tags": []
   },
   "source": [
    "***\n",
    "### **<span style=\"color:blue\">Partner #2</span>** **<span style=\"color:red\">(0.5 marks)</span>** \n",
    "If you are working on your own, leave all of last_name_2, first_name_2, and student_number_2 as ...  Please still exectute these cells and then run the 'grader.check(\"name_and_student_number_2\")' cell."
   ]
  },
  {
   "cell_type": "code",
   "execution_count": null,
   "id": "0bde8c3a-cd0e-4ed4-8246-3bbbd187c248",
   "metadata": {
    "tags": []
   },
   "outputs": [],
   "source": [
    "# Enter LAST name of partner 2.  Delete the ... below and type your entry between the single quotes.\n",
    "# Once you've completed your entry, press SHIFT + ENTER to execute the cell.\n",
    "# *** Please do not change anything to the left of the equals sign. ***\n",
    "last_name_2 = ..."
   ]
  },
  {
   "cell_type": "code",
   "execution_count": null,
   "id": "96c6b096-6742-4001-af9b-b56fc744d2e5",
   "metadata": {
    "tags": []
   },
   "outputs": [],
   "source": [
    "# Enter FIRST name of partner 2.  Delete the ... below and type your entry between the single quotes.\n",
    "# Once you've completed your entry, press SHIFT + ENTER to execute the cell.\n",
    "# *** Please do not change anything to the left of the equals sign. ***\n",
    "first_name_2 = ..."
   ]
  },
  {
   "cell_type": "code",
   "execution_count": null,
   "id": "7b1e7cc0-85b7-42af-b47c-f1b7e4b138c8",
   "metadata": {
    "tags": []
   },
   "outputs": [],
   "source": [
    "# Enter STUDENT NUMBER of partner 2.  Delete the ... below and type your entry between the single quotes.\n",
    "# Once you've completed your entry, press SHIFT + ENTER to execute the cell.\n",
    "# *** Please do not change anything to the left of the equals sign. ***\n",
    "student_number_2 = ..."
   ]
  },
  {
   "cell_type": "code",
   "execution_count": null,
   "id": "1b43280d-8c9c-4326-8fdb-94f9cc69032d",
   "metadata": {
    "deletable": false,
    "editable": false,
    "tags": []
   },
   "outputs": [],
   "source": [
    "PHYS231.graderCheck([last_name_1, first_name_1, student_number_1, last_name_2, first_name_2, student_number_2], ['last_name_1', 'first_name_1', 'student_number_1', 'last_name_2', 'first_name_2', 'student_number_2'], grader.check('name_and_student_number'))"
   ]
  },
  {
   "cell_type": "markdown",
   "id": "91ece658",
   "metadata": {
    "deletable": false,
    "editable": false,
    "tags": []
   },
   "source": [
    "# <div style=\"background-color:rgba(255, 204, 255, 0.5); text-align:center; vertical-align: middle; padding:40px 0; margin-top:30px\"><span style=\"color:rgba(102, 0, 204, 1);\">Part 1 - Using Functions from PHYS231.py</span></div>"
   ]
  },
  {
   "cell_type": "markdown",
   "id": "f5178a04-21a8-4e65-be71-6e148bca0edb",
   "metadata": {
    "deletable": false,
    "editable": false,
    "tags": []
   },
   "source": [
    "<!-- BEGIN QUESTION -->\n",
    "\n",
    "## Pandas Dataframe\n",
    "\n",
    "Pandas is a powerful Python module that can be used to handle and manipulate small and large datasets.  In this introductory lab, we will use Pandas to import data stored in a \"csv\" ('**c**omma-**s**eparated **v**alues') file called \"Lab0_data.csv\".  The syntax for entering loading the data in the file is as follows:\n",
    "\n",
    "```python\n",
    "filename = 'name_of_file.csv'\n",
    "df = pd.read_csv(filename)\n",
    "\n",
    "# Display the dataframe (df)\n",
    "df\n",
    "```\n",
    "\n",
    "***\n",
    "**<span style=\"color:blue\">Question 1.1</span>** **<span style=\"color:red\">(1 mark)</span>**  \n",
    "\n",
    "In the cell below, replace the ... with the name of the csv file between single or double quotes and then execute the cell.\n",
    "\n",
    "*** Please do not change any of the variable names in the cell below ***"
   ]
  },
  {
   "cell_type": "code",
   "execution_count": null,
   "id": "c28518d4-57d1-4f17-a9a7-2ef816ef5ba6",
   "metadata": {
    "tags": []
   },
   "outputs": [],
   "source": [
    "filename = ...\n",
    "df = pd.read_csv(filename)\n",
    "\n",
    "# Display the dataframe\n",
    "df"
   ]
  },
  {
   "cell_type": "code",
   "execution_count": null,
   "id": "08167110-ff9a-4fd9-8aa2-c96d7424fee4",
   "metadata": {
    "deletable": false,
    "editable": false,
    "tags": []
   },
   "outputs": [],
   "source": [
    "PHYS231.graderCheck([filename], ['filename'], grader.check('q1.1'))"
   ]
  },
  {
   "cell_type": "markdown",
   "id": "1a578c93-2b6f-429b-8a43-bf1a8608ca96",
   "metadata": {
    "deletable": false,
    "editable": false,
    "tags": []
   },
   "source": [
    "Once a dataframe has been created, you can access individual columns using the following notation:\n",
    "\n",
    "```python\n",
    "df['column_label']\n",
    "```\n",
    "\n",
    "where ```column_label``` should be replaced with the name of the column you're trying to access. If desired, you can also convert the entries in a dataframe column to an array via:\n",
    "\n",
    "```python\n",
    "array = df['column_label'].to_numpy()\n",
    "```"
   ]
  },
  {
   "cell_type": "markdown",
   "id": "64412bdf-fb3e-457a-a24d-f0b800355c25",
   "metadata": {
    "deletable": false,
    "editable": false,
    "tags": []
   },
   "source": [
    "***\n",
    "**<span style=\"color:blue\">Question 1.2</span>** **<span style=\"color:red\">(3 marks)</span>**  \n",
    "\n",
    "In the cell below, replace the ... with the three column names of the dataframe you created above and then execute the cell.\n",
    "\n",
    "*** Please do not change any of the variable names in the cell below ***"
   ]
  },
  {
   "cell_type": "code",
   "execution_count": null,
   "id": "3bf8a8a7-e510-4c7b-a444-d16a7608918f",
   "metadata": {
    "tags": []
   },
   "outputs": [],
   "source": [
    "\n",
    "# time array\n",
    "t = df['...'].to_numpy()\n",
    "\n",
    "# y array\n",
    "y = df['...'].to_numpy()\n",
    "\n",
    "# erry array\n",
    "erry = df['...'].to_numpy()\n",
    "\n",
    "# Display the arrays\n",
    "print('t =', t, 's')\n",
    "print('y =', y, 'm')\n",
    "print('erry =', erry, 'm')"
   ]
  },
  {
   "cell_type": "code",
   "execution_count": null,
   "id": "d3bcd130-ee2d-49cc-9292-012ec0620e60",
   "metadata": {
    "deletable": false,
    "editable": false,
    "tags": []
   },
   "outputs": [],
   "source": [
    "PHYS231.graderCheck([t, y, erry], ['t', 'y', 'erry'], grader.check('q1.2'))"
   ]
  },
  {
   "cell_type": "markdown",
   "id": "5f192f55",
   "metadata": {
    "deletable": false,
    "editable": false,
    "tags": []
   },
   "source": [
    "<!-- BEGIN QUESTION -->\n",
    "\n",
    "## Scatter Plots\n",
    "\n",
    "We can create a scatter plot of the data loaded into out dataframne or arrays.  'PHYS231.py' contains a function called 'Scatter()'.  The most basic usage of this function is:\n",
    "```python\n",
    "fig1 = PHYS231.Scatter(t, y)\n",
    "```\n",
    "which will produce a scatter plot of column y versus column t.  If we add a third argument in the function call, it will produce a scatter plot with error bars.\n",
    "```python\n",
    "fig2 = PHYS231.Scatter(t, y, erry)\n",
    "```\n",
    "Additional options can be included to do some basic formatting.  Executing the following line of code:\n",
    "```python\n",
    "fig3 = PHYS231.Scatter(xData = t, yData = y, yErrors = erry, xlabel = 'time', ylabel = 'position', xUnits = 's', yUnits = 'm')\n",
    "```\n",
    "will produce a scatter plot with error bars and labeled $x$- and $y$-axes.\n",
    "\n",
    "Each of these examples is demonstrated below.  \n",
    "\n",
    "For additional information about the 'Scatter' function, see **Appendix A** near the end of this notebook. "
   ]
  },
  {
   "cell_type": "markdown",
   "id": "88c12980-4143-46d8-84c4-38cac9f420df",
   "metadata": {
    "deletable": false,
    "editable": false,
    "tags": []
   },
   "source": [
    "<!-- BEGIN QUESTION -->\n",
    "\n",
    "***\n",
    "**<span style=\"color:blue\">Question 1.3</span>** **<span style=\"color:red\">(2 marks)</span>**  \n",
    "\n",
    "Replace all instances of ... in the cell below to produce:\n",
    "\n",
    " - (a) a plot of y versus t without error bars\n",
    " - (b) a plot of y versus t with error bars\n",
    " \n",
    " *** Please do not change any of the variable names in the cell below ***"
   ]
  },
  {
   "cell_type": "code",
   "execution_count": null,
   "id": "5c37ce29-1cbc-478d-8623-75f081b225ec",
   "metadata": {
    "tags": []
   },
   "outputs": [],
   "source": [
    "\n",
    "# (a) y versus t without error bars\n",
    "fig1 = PHYS231.Scatter(..., ...)\n",
    "\n",
    "# (a) y versus t with error bars\n",
    "fig2 = PHYS231.Scatter(..., ..., ...)"
   ]
  },
  {
   "cell_type": "markdown",
   "id": "60df6527-f5ea-484a-8947-9202ec384bb4",
   "metadata": {
    "deletable": false,
    "editable": false,
    "tags": []
   },
   "source": [
    "<!-- END QUESTION -->\n",
    "\n",
    "The cell below shows how custum axis labels can be added to the plots using the PHYS231.Scatter() function.  Execute the cell below to see the resulting output."
   ]
  },
  {
   "cell_type": "code",
   "execution_count": null,
   "id": "1d24a833",
   "metadata": {
    "tags": []
   },
   "outputs": [],
   "source": [
    "fig3 = PHYS231.Scatter(\n",
    "    xData = t,\n",
    "    yData = y,\n",
    "    yErrors = erry,\n",
    "    xlabel = \"time\",\n",
    "    ylabel = \"position\",\n",
    "    xUnits = \"s\",\n",
    "    yUnits = \"m\",\n",
    ")"
   ]
  },
  {
   "cell_type": "markdown",
   "id": "553f0059",
   "metadata": {
    "deletable": false,
    "editable": false,
    "tags": []
   },
   "source": [
    "<!-- END QUESTION -->\n",
    "\n",
    "## Linear Fits\n",
    "\n",
    "The final thing that we'll do in Part 1 is fit a straight line through the data shown in the scatter plots above.  Of course, we don't need to use a pre-built function from PHYS231.py to do the fit.  If you're interested in seeing how to write your own code to do linear fits, see the following tutorial: https://cmps-people.ok.ubc.ca/jbobowsk/Python/html/Jupyter%20Weighted%20Linear%20Fit.html. \n",
    "\n",
    "For some common data analysis tasks, such as linear fits, it can be convenient to create functions to complete these repetitive tasks.  The PHYS 231 function that we'll use is called 'LinearFit'.  The most basic call of this function is:\n",
    "```python\n",
    "m, b, dm, db, fig = PHYS231.LinearFit(t, y)\n",
    "```\n",
    "This results in an *unweighted* fit to the data.  In an unweighted fit, the error bars are ignored when determining the slope and intercept of the best-fit line.\n",
    "\n",
    "In an weighted fit, points with smaller error bars play a larger role in determining the slope and intercept of the best-fit line.  The function call to perform a weighted fit is:\n",
    "```python\n",
    "m, b, dm, db, fig = PHYS231.LinearFit(t, y, erry)\n",
    "```\n",
    "A weighted fit with a formatted plot can be called by using some of the other available arguments:\n",
    "```python\n",
    "m, b, dm, db, fig = PHYS231.LinearFit(xData = t, yData = y, yErrors = erry, xlabel = 'time', ylabel = 'position', xUnits = 's', yUnits = 'm')\n",
    "```\n",
    "For additional information about the 'LinearFit' function, see **Appendix B** near the end of this notebook. "
   ]
  },
  {
   "cell_type": "markdown",
   "id": "8d97d417-53f5-4f08-a206-d88d59d0bb85",
   "metadata": {
    "deletable": false,
    "editable": false,
    "tags": []
   },
   "source": [
    "***\n",
    "**<span style=\"color:blue\">Question 1.4</span>** **<span style=\"color:red\">(2 marks)</span>**  \n",
    "\n",
    "Replace all instances of ... in the cell below to produce a weighted linear fit to the $y\\pm\\Delta y$ versus $t$ data.\n",
    "\n",
    " *** Please do not change any of the variable names in the cell below ***"
   ]
  },
  {
   "cell_type": "code",
   "execution_count": null,
   "id": "63f1f360",
   "metadata": {
    "tags": []
   },
   "outputs": [],
   "source": [
    "\n",
    "m, b, dm, db, fig4 = PHYS231.LinearFit(\n",
    "    xData = ...,\n",
    "    yData = ...,\n",
    "    yErrors = ...,\n",
    "    xlabel=\"time\",\n",
    "    ylabel=\"position\",\n",
    "    xUnits=\"s\",\n",
    "    yUnits=\"m\",\n",
    ")\n"
   ]
  },
  {
   "cell_type": "code",
   "execution_count": null,
   "id": "3428441a-7bcd-4158-9a63-23930aa5ec38",
   "metadata": {
    "deletable": false,
    "editable": false,
    "tags": []
   },
   "outputs": [],
   "source": [
    "PHYS231.graderCheck([m, dm, b, db], ['m', 'dm', 'b', 'db'], grader.check('q1.4'))"
   ]
  },
  {
   "cell_type": "markdown",
   "id": "e1f0c0d6",
   "metadata": {
    "deletable": false,
    "editable": false,
    "tags": []
   },
   "source": [
    "# <div style=\"background-color:rgba(255, 204, 255, 0.5); text-align:center; vertical-align: middle; padding:40px 0; margin-top:30px\"><span style=\"color:rgba(102, 0, 204, 1);\">Part 2 - Basic Operations in Python</span></div>\n",
    "\n",
    "For a set of Python tutorials that are primarily focused on data analysis, see: https://cmps-people.ok.ubc.ca/jbobowsk/Python.html\n",
    "\n",
    "There is a large community of Python users.  Everything I learned about Python, and Jupyter Notebooks, I picked up from Stack Exchange and Stack Overflow.\n",
    "\n",
    "Some things in Python can be done in exactly the way you would guess.  For example, the cells below demonstrate addition, subtraction, multiplication, and division. "
   ]
  },
  {
   "cell_type": "code",
   "execution_count": null,
   "id": "310353e7",
   "metadata": {},
   "outputs": [],
   "source": [
    "3 + 8 - 2"
   ]
  },
  {
   "cell_type": "code",
   "execution_count": null,
   "id": "1ccb8724",
   "metadata": {},
   "outputs": [],
   "source": [
    "3 * 8 / 2"
   ]
  },
  {
   "cell_type": "markdown",
   "id": "25111087",
   "metadata": {
    "deletable": false,
    "editable": false,
    "tags": []
   },
   "source": [
    "Other operations require that we make use of modules.  One of common Python module is 'Numpy'.  It is usually import as:\n",
    "```python\n",
    "import numpy as np\n",
    "```\n",
    "This allows use to call functions from the module using 'np' rather than typing all of 'numpy'.  Note that in this notebook, this import statement was already executed in the 'Import Modules' section and so does not need to be run again.  Numpy allows us to use trig functions, exponentials and logs, constants such as pi, and many other things.  If you were to try entering something like:\n",
    "```python\n",
    "cos(pi)\n",
    "```\n",
    "into a code cell, it would result in an error.  Feel free to try it!  This operation, however, can be done using numpy as demonstrated in the code cell below."
   ]
  },
  {
   "cell_type": "code",
   "execution_count": null,
   "id": "f5e8ca0f",
   "metadata": {},
   "outputs": [],
   "source": [
    "np.cos(np.pi)"
   ]
  },
  {
   "cell_type": "markdown",
   "id": "5cfc3336",
   "metadata": {
    "deletable": false,
    "editable": false,
    "tags": []
   },
   "source": [
    "Here are some other examples.  Note that, in Python, ```np.log(x)``` is equivalent to $\\ln(x)$ and ```np.log10(y)``` is equivalent to what we would usually write as $\\log(y)$."
   ]
  },
  {
   "cell_type": "code",
   "execution_count": null,
   "id": "30e35dca",
   "metadata": {},
   "outputs": [],
   "source": [
    "np.exp(1)"
   ]
  },
  {
   "cell_type": "code",
   "execution_count": null,
   "id": "b08c98df",
   "metadata": {},
   "outputs": [],
   "source": [
    "np.log(np.exp(1))"
   ]
  },
  {
   "cell_type": "code",
   "execution_count": null,
   "id": "f002f11a",
   "metadata": {},
   "outputs": [],
   "source": [
    "np.log10(100)"
   ]
  },
  {
   "cell_type": "code",
   "execution_count": null,
   "id": "9e1f0568",
   "metadata": {},
   "outputs": [],
   "source": [
    "np.arctan(1) / np.pi"
   ]
  },
  {
   "cell_type": "markdown",
   "id": "c9b409ed",
   "metadata": {
    "deletable": false,
    "editable": false,
    "tags": []
   },
   "source": [
    "We'll discuss only one more example of standard mathematical operations.  In Python, to raise a quantity to a power, you can use the double multiplication sign notation as in:\n",
    "```python\n",
    "x**y\n",
    "```\n",
    "which is equivalent to $x^y$."
   ]
  },
  {
   "cell_type": "markdown",
   "id": "e2c5c6bb-050a-413d-8658-86eeb3834ee3",
   "metadata": {
    "deletable": false,
    "editable": false,
    "tags": []
   },
   "source": [
    "***\n",
    "**<span style=\"color:blue\">Question 2.1</span>** **<span style=\"color:red\">(1 mark)</span>**  \n",
    "\n",
    "Replace ... in the cell below with an expression that will calculate ans = $2^3$.\n",
    "\n",
    " *** Please do not change any of the variable names in the cell below ***"
   ]
  },
  {
   "cell_type": "code",
   "execution_count": null,
   "id": "41fd0c00-6c7d-4df7-a60f-52ded8272ef1",
   "metadata": {
    "tags": []
   },
   "outputs": [],
   "source": [
    "ans = ...\n",
    "print(ans)"
   ]
  },
  {
   "cell_type": "code",
   "execution_count": null,
   "id": "9bb9bf5e-2482-45cc-8310-7f3ba8583b42",
   "metadata": {},
   "outputs": [],
   "source": [
    "PHYS231.graderCheck([ans], ['ans'], grader.check('q2.1'))"
   ]
  },
  {
   "cell_type": "markdown",
   "id": "2722a2b6",
   "metadata": {
    "deletable": false,
    "editable": false,
    "tags": []
   },
   "source": [
    "# <div style=\"background-color:rgba(255, 204, 255, 0.5); text-align:center; vertical-align: middle; padding:40px 0; margin-top:30px\"><span style=\"color:rgba(102, 0, 204, 1);\">Part 3 - Feedback and Submission</span></div>"
   ]
  },
  {
   "cell_type": "markdown",
   "id": "cd42e49c",
   "metadata": {
    "deletable": false,
    "editable": false,
    "tags": []
   },
   "source": [
    "<!-- BEGIN QUESTION -->\n",
    "\n",
    "***\n",
    "**<span style=\"color:blue\">Question 3.1:</span>**  \n",
    "\n",
    "We welcome your feedback on the PHYS 231 labs!  Please feel free to include any comments you have about this lab in the cell below.  Your comments will be taken into consideration when revising/improving the PHYS 231 labs.  You can suggest improvements, point out anything that was unclear, comment on the strengths and weaknesses of the lab, ...\n",
    "\n",
    "This question is optional and will have no impact on your lab grade."
   ]
  },
  {
   "cell_type": "markdown",
   "id": "8d6f3270",
   "metadata": {},
   "source": [
    "***\n",
    "**<span style=\"color:blue\">Answer 3.1:</span>**\n",
    "\n",
    "[//]: # (Please do not delete this comment or anything above it.  Anything below this comment can be deleted.)  \n",
    "\n",
    "Double click this cell and enter your text here.  When done, hit 'Shift' + 'Enter' to execute the cell.  You may delete this text when entering your answer. \n"
   ]
  },
  {
   "cell_type": "markdown",
   "id": "7e3775b6",
   "metadata": {
    "deletable": false,
    "editable": false,
    "tags": []
   },
   "source": [
    "<!-- END QUESTION -->\n",
    "\n",
    "***\n",
    "Once you've completed this notebook:\n",
    "- Save your work.\n",
    "- Run 'grader.check_all()' to confirm that you've completed all required tasks.\n",
    "- Run 'grader.export()' to generate a .zip file containing all of the materials that you will submit.\n",
    "- Download the generated .zip file using the link that appears **below** the ```grader.check_all(...)``` cell.\n",
    "- $\\Leftarrow$ Please do **NOT** download the zip file from the frame along the left-hand side of the screen. \n",
    "- Upload the .zip file to the PHYS 121 Canvas gradebook.\n",
    "- **Do NOT change the name of the .zip file.**\n",
    "- **Do NOT modify the contents of the .zip file.**\n",
    "\n",
    "Here is a <a href = \"https://raw.githubusercontent.com/UBC-Okanagan-Physics-Labs/PHYS-121-images/main/general/gifs/Submission.gif\">GIF</a> showing how these steps are completed.  Once your completed notebook has been uploaded to the Canvas gradebook, you're done!"
   ]
  },
  {
   "cell_type": "markdown",
   "id": "88ab566e",
   "metadata": {
    "deletable": false,
    "editable": false,
    "tags": []
   },
   "source": [
    "---\n",
    "\n",
    "To double-check your work, the cell below will rerun all of the autograder tests."
   ]
  },
  {
   "cell_type": "code",
   "execution_count": null,
   "id": "9176d687",
   "metadata": {
    "deletable": false,
    "editable": false,
    "tags": []
   },
   "outputs": [],
   "source": [
    "display(grader.check_all())\n",
    "PHYS231.saveMessage()"
   ]
  },
  {
   "cell_type": "markdown",
   "id": "81808979",
   "metadata": {
    "deletable": false,
    "editable": false,
    "tags": []
   },
   "source": [
    "## Submission\n",
    "\n",
    "Make sure you have run all cells in your notebook in order before running the cell below, so that all images/graphs appear in the output. The cell below will generate a zip file for you to submit. **Please save before exporting!**"
   ]
  },
  {
   "cell_type": "code",
   "execution_count": null,
   "id": "176fc3c7",
   "metadata": {
    "deletable": false,
    "editable": false,
    "tags": []
   },
   "outputs": [],
   "source": [
    "# Save your notebook first, then run this cell to export your submission.\n",
    "PHYS231.waitMessage()\n",
    "grader.export(files=[\"PHYS121_DataLogger.txt\"])\n",
    "PHYS231.proceedMessage()"
   ]
  },
  {
   "cell_type": "markdown",
   "id": "f2d34f70",
   "metadata": {
    "deletable": false,
    "editable": false,
    "tags": []
   },
   "source": [
    "# <div style=\"background-color:rgba(255, 204, 255, 0.5); text-align:center; vertical-align: middle; padding:40px 0; margin-top:30px\"><span style=\"color:rgba(102, 0, 204, 1);\">Part 4 - Playground (optional)</span></div>\n",
    "\n",
    "Feel free to add as many cells as you like below and use them as a playground for further independent investigations.  These cells won't be graded, so feel free to use them in any way that you like.  "
   ]
  },
  {
   "cell_type": "code",
   "execution_count": null,
   "id": "ff728887",
   "metadata": {},
   "outputs": [],
   "source": [
    "# Here's an empty code cell that you can use."
   ]
  },
  {
   "cell_type": "code",
   "execution_count": null,
   "id": "7fcf5550",
   "metadata": {},
   "outputs": [],
   "source": [
    "# Here's another empty code cell that you can use."
   ]
  },
  {
   "cell_type": "code",
   "execution_count": null,
   "id": "922c01cc",
   "metadata": {},
   "outputs": [],
   "source": [
    "# Here's yet another empty code cell that you can use.\n",
    "# If you need more, you can add cells using the '+' icon in the menu bar at to the top of the screen."
   ]
  },
  {
   "cell_type": "markdown",
   "id": "b399df35",
   "metadata": {
    "deletable": false,
    "editable": false,
    "tags": []
   },
   "source": [
    "### <div style=\"background-color:rgba(255, 255, 102, 0.5); text-align:left; padding:20px 0; margin-top:20px\">$\\quad$Appendix A &ndash; The Scatter Function...</div>\n",
    "\n",
    "The function for generating scatter plots is called as follows:\n",
    "```python\n",
    "PHYS231.Scatter(xData, yData, yErrors = [], xlabel = 'x-axis', ylabel = 'y-axis', xUnits = '', yUnits = '', fill = False, show = True)\n",
    "```\n",
    "The 'xData' and 'yData' inputs are required, all other arguments are optional with default values set.  The function returns the a single output (the formatted plot):\n",
    "```python\n",
    "fig\n",
    "```\n",
    "\n",
    "The function will do a simple scatter plot if no 'yError' are included.  It will included error bars if 'yErrors' are passed to the function.  The 'fill' and 'show' arguments should generally be false.  \n",
    "\n",
    "If the 'xData' list is empty, as in:\n",
    "```python\n",
    "xData = []\n",
    "```\n",
    "then the x-axis will be the trial number.  For example, is 'xData' is empty and 'yData' has 10 elements, the x-axis will span 1 to 10.\n",
    "\n",
    "### Scatter Example Implmentation\n",
    "The code block below shows an implementation of 'Scatter'.\n",
    "```python\n",
    "import PHYS231\n",
    "theta = [10, 20, 30] # degrees\n",
    "T = [2.02, 1.95, 2.13] # s\n",
    "errT = [0.02, 0.02, 0.03] # s\n",
    "fig = PHYS231.Scatter(theta, T, errT, 'initial angle' , 'period', 'degrees', 's')\n",
    "```\n",
    "\n",
    "If you're interested in generating your own plots with customized formatting, see the following Python-based plotting tutorial: https://cmps-people.ok.ubc.ca/jbobowsk/Python/html/Jupyter%20Basic%20Plots.html.\n",
    "***"
   ]
  },
  {
   "cell_type": "markdown",
   "id": "585f3316",
   "metadata": {
    "deletable": false,
    "editable": false,
    "tags": []
   },
   "source": [
    "### <div style=\"background-color:rgba(255, 255, 102, 0.5); text-align:left; padding:20px 0; margin-top:20px\">$\\quad$Appendix B &ndash; The LinearFit Function...</div>\n",
    "\n",
    "The linear-fit function is called as follows:\n",
    "```python\n",
    "PHYS231.LinearFit(xData, yData, yErrors = [], xlabel = 'x-axis', ylabel = 'y-axis', xUnits = '', yUnits = '', fill = False)\n",
    "```\n",
    "The xData and yData lists are required.  The others are optional with default values set.  The function returns the following outputs:\n",
    "```python\n",
    "Slope, Yintercept, errSlope, errYintercept, fig\n",
    "```\n",
    "The first four outputs are numerical values and 'fig' is the formatted plot. \n",
    "\n",
    "If $y$-uncertainities are provided, the function will perform a weighted fit.  The $y$-uncertainties list must be the same length as $x$- and $y$-data lists.  If $y$-uncertainties are not provided, the fit will be unweighted.  The other optional arguments include $x$- and $y$-axis names and units for the $x$- and $y$-datasets.  These must be entered as strings (enclosed in quotations) and they are used for formatting the outputs of the function.  If 'fill' is set to True, shading will be added around the best-fit line representing confindence intervals. \n",
    "\n",
    "### Unweighted Fit Example Implmentation\n",
    "The code block below shows the most basic use of 'LinearFit' for an unweighted fit without any of the optional arguments.\n",
    "```python\n",
    "import PHYS231\n",
    "V = [1, 2, 3, 4]\n",
    "I = [0.12, 0.198, 0.285, 0.412]\n",
    "m, b, dm, db, fig = PHYS231.LinearFit(V, I)\n",
    "```\n",
    "\n",
    "### Weighted Fit Example Implmentation\n",
    "This second blcok of code shows how to use 'LinearFit' to do a weighted fit.  It also makes use of all of the other optional arguments.  \n",
    "```python\n",
    "import PHYS231\n",
    "V = [1, 2, 3, 4]\n",
    "I = [0.12, 0.198, 0.285, 0.412]\n",
    "errI = [0.005, 0.012, 0.020, 0.025]\n",
    "m, b, dm, db, fig = PHYS231.LinearFit(V, I, errI, 'voltage' , 'current', 'V', 'A', True)\n",
    "```\n",
    "\n",
    "The 'm, b, dm, db, fig = ...' syntax is used to store the function outputs in varibles.  If you're interested in details of the fitting process, see the following Python-based tutorial: https://cmps-people.ok.ubc.ca/jbobowsk/Python/html/Jupyter%20Weighted%20Linear%20Fit.html\n",
    "***"
   ]
  },
  {
   "cell_type": "markdown",
   "id": "af6651d3-23b9-4aad-a71f-fefdd14718c0",
   "metadata": {
    "deletable": false,
    "editable": false,
    "tags": []
   },
   "source": [
    "<img src=\"https://raw.githubusercontent.com/UBC-Okanagan-Physics-Labs/PHYS-121-images/main/general/images/ubc-logo-full.jpg\" width=\"500\"/>"
   ]
  },
  {
   "cell_type": "markdown",
   "id": "ac162dd1",
   "metadata": {},
   "source": [
    "Last update: September 14, 2024"
   ]
  }
 ],
 "metadata": {
  "kernelspec": {
   "display_name": "Python 3 (ipykernel)",
   "language": "python",
   "name": "python3"
  },
  "language_info": {
   "codemirror_mode": {
    "name": "ipython",
    "version": 3
   },
   "file_extension": ".py",
   "mimetype": "text/x-python",
   "name": "python",
   "nbconvert_exporter": "python",
   "pygments_lexer": "ipython3",
   "version": "3.10.6"
  },
  "otter": {
   "OK_FORMAT": true,
   "tests": {
    "name_and_student_number": {
     "name": "name_and_student_number",
     "points": null,
     "suites": [
      {
       "cases": [
        {
         "code": ">>> isinstance(last_name_1, str)\nTrue",
         "failure_message": "last_name_1 must be a string (i.e. surround your answer by either single or double quotes).",
         "hidden": false,
         "locked": false,
         "points": 0
        },
        {
         "code": ">>> isinstance(first_name_1, str)\nTrue",
         "failure_message": "first_name_1 must be a string (i.e. surround your answer by either single or double quotes).",
         "hidden": false,
         "locked": false,
         "points": 0
        },
        {
         "code": ">>> isinstance(student_number_1, str)\nTrue",
         "failure_message": "student_number_1 must be a string (i.e. surround your answer by either single or double quotes).",
         "hidden": false,
         "locked": false,
         "points": 0
        },
        {
         "code": ">>> test = True\n>>> if isinstance(student_number_1, str):\n...     test = len(student_number_1) == 8\n>>> test\nTrue",
         "failure_message": "student_number_1 must be a string of exactly 8 characters.",
         "hidden": false,
         "locked": false,
         "points": 0
        },
        {
         "code": ">>> test = True\n>>> if isinstance(student_number_1, str):\n...     test = student_number_1.isdigit()\n>>> test\nTrue",
         "failure_message": "student_number_1 must contain only interger digits (0, 1, 2, 3, ..., 9)",
         "hidden": false,
         "locked": false,
         "points": 0.5
        },
        {
         "code": ">>> isinstance(last_name_2, str) or last_name_2 == ...\nTrue",
         "failure_message": "last_name_2 must be a string (i.e. surround your answer by either single or double quotes).",
         "hidden": false,
         "locked": false,
         "points": 0
        },
        {
         "code": ">>> isinstance(first_name_2, str) or first_name_2 == ...\nTrue",
         "failure_message": "first_name_2 must be a string (i.e. surround your answer by either single or double quotes).",
         "hidden": false,
         "locked": false,
         "points": 0
        },
        {
         "code": ">>> isinstance(student_number_2, str) or student_number_2 == ...\nTrue",
         "failure_message": "student_number_2 must be a string (i.e. surround your answer by either single or double quotes).",
         "hidden": false,
         "locked": false,
         "points": 0
        },
        {
         "code": ">>> test = True\n>>> if isinstance(student_number_2, str):\n...     test = len(student_number_2) == 8\n>>> test\nTrue",
         "failure_message": "student_number_2 must be a string of exactly 8 characters or be left as ...",
         "hidden": false,
         "locked": false,
         "points": 0
        },
        {
         "code": ">>> test = True\n>>> if isinstance(student_number_2, str):\n...     test = student_number_2.isdigit()\n>>> test\nTrue",
         "failure_message": "student_number_2 must contain only interger digits (0, 1, 2, 3, ..., 9) or be left as ...",
         "hidden": false,
         "locked": false,
         "points": 0.5
        }
       ],
       "scored": true,
       "setup": "",
       "teardown": "",
       "type": "doctest"
      }
     ]
    },
    "q0.1": {
     "name": "q0.1",
     "points": null,
     "suites": [
      {
       "cases": [
        {
         "code": ">>> 'PHYS231' in sys.modules and 'otter' in sys.modules and ('numpy' in sys.modules)\nTrue",
         "failure_message": "Make sure you execute the cells containing \"import PHYS231\" and \"import otter\" as well as the cell beneath the heading \"Import Modules\".",
         "hidden": false,
         "locked": false,
         "points": 0
        }
       ],
       "scored": true,
       "setup": "",
       "teardown": "",
       "type": "doctest"
      }
     ]
    },
    "q1.1": {
     "name": "q1.1",
     "points": null,
     "suites": [
      {
       "cases": [
        {
         "code": ">>> isinstance(filename, str)\nTrue",
         "failure_message": "Your answer must be a string, i.e. surrounded by single or double quotes.",
         "hidden": false,
         "locked": false,
         "points": 0
        },
        {
         "code": ">>> filename == 'Lab0_data.csv'\nTrue",
         "failure_message": "Please check the filename that you entered.  It must exactly match 'Lab0_data.csv' or \"Lab0_data.csv\".",
         "hidden": false,
         "locked": false,
         "points": 1
        }
       ],
       "scored": true,
       "setup": "",
       "teardown": "",
       "type": "doctest"
      }
     ]
    },
    "q1.2": {
     "name": "q1.2",
     "points": null,
     "suites": [
      {
       "cases": [
        {
         "code": ">>> all(np.isclose(t, df['t'], rtol=0.001))\nTrue",
         "failure_message": "Make sure 't' array matches the 't' column in the dataframe.",
         "hidden": false,
         "locked": false,
         "points": 1
        },
        {
         "code": ">>> all(np.isclose(y, df['y'], rtol=0.001))\nTrue",
         "failure_message": "Make sure 'y' array matches the 'y' column in the dataframe.",
         "hidden": false,
         "locked": false,
         "points": 1
        },
        {
         "code": ">>> all(np.isclose(erry, df['erry'], rtol=0.001))\nTrue",
         "failure_message": "Make sure 'erry' array matches the 'erry' column in the dataframe.",
         "hidden": false,
         "locked": false,
         "points": 1
        }
       ],
       "scored": true,
       "setup": "",
       "teardown": "",
       "type": "doctest"
      }
     ]
    },
    "q1.4": {
     "name": "q1.4",
     "points": null,
     "suites": [
      {
       "cases": [
        {
         "code": ">>> math.isclose(m, 1.974, rel_tol=0.01)\nTrue",
         "failure_message": "Your slope is incorrect.",
         "hidden": false,
         "locked": false,
         "points": 0.5
        },
        {
         "code": ">>> math.isclose(dm, 0.059, rel_tol=0.01)\nTrue",
         "failure_message": "The error in your slope is incorrect.",
         "hidden": false,
         "locked": false,
         "points": 0.5
        },
        {
         "code": ">>> math.isclose(b, 4.23, rel_tol=0.01)\nTrue",
         "failure_message": "Your intercept is incorrect.",
         "hidden": false,
         "locked": false,
         "points": 0.5
        },
        {
         "code": ">>> math.isclose(db, 0.1515, rel_tol=0.01)\nTrue",
         "failure_message": "The error in your intercept is incorrect.",
         "hidden": false,
         "locked": false,
         "points": 0.5
        }
       ],
       "scored": true,
       "setup": "",
       "teardown": "",
       "type": "doctest"
      }
     ]
    },
    "q2.1": {
     "name": "q2.1",
     "points": null,
     "suites": [
      {
       "cases": [
        {
         "code": ">>> math.isclose(ans, 2 ** 3, rel_tol=1e-05)\nTrue",
         "failure_message": "Please try again.",
         "hidden": false,
         "locked": false,
         "points": 1
        }
       ],
       "scored": true,
       "setup": "",
       "teardown": "",
       "type": "doctest"
      }
     ]
    }
   }
  },
  "vscode": {
   "interpreter": {
    "hash": "a1ce1a55934a23fd40442cf0356ecbdd657c4299d40a67360326f76004edb0e0"
   }
  }
 },
 "nbformat": 4,
 "nbformat_minor": 5
}
